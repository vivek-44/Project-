{
  "nbformat": 4,
  "nbformat_minor": 0,
  "metadata": {
    "colab": {
      "provenance": [],
      "mount_file_id": "1kjwLgG0RTp5u-CiKDvNVrqb36-wfmJHx",
      "authorship_tag": "ABX9TyO5RU0tpIy4ic0tSeKvIcvk",
      "include_colab_link": true
    },
    "kernelspec": {
      "name": "python3",
      "display_name": "Python 3"
    },
    "language_info": {
      "name": "python"
    }
  },
  "cells": [
    {
      "cell_type": "markdown",
      "metadata": {
        "id": "view-in-github",
        "colab_type": "text"
      },
      "source": [
        "<a href=\"https://colab.research.google.com/github/vivek-44/Project-/blob/main/Hindi_character.ipynb\" target=\"_parent\"><img src=\"https://colab.research.google.com/assets/colab-badge.svg\" alt=\"Open In Colab\"/></a>"
      ]
    },
    {
      "cell_type": "code",
      "execution_count": null,
      "metadata": {
        "colab": {
          "base_uri": "https://localhost:8080/"
        },
        "id": "jJcjiz7JgEz5",
        "outputId": "948006ff-5fdc-47cf-dfc8-6a9fcc23ceed"
      },
      "outputs": [
        {
          "output_type": "stream",
          "name": "stdout",
          "text": [
            "finish\n"
          ]
        }
      ],
      "source": [
        "#https://www.kaggle.com/datasets/suvooo/hindi-character-recognition/data\n",
        "from zipfile import ZipFile\n",
        "file_name = \"/content/drive/MyDrive/hindi_dataset.zip\"\n",
        "with ZipFile(file_name,'r') as zip:\n",
        "  zip.extractall()\n",
        "  print('finish')\n",
        "#from google.colab import drive\n",
        "#drive.mount('/content/drive')"
      ]
    },
    {
      "cell_type": "code",
      "source": [
        "import os\n",
        "import pandas as pd\n",
        "import matplotlib.pyplot as plt\n",
        "import numpy as np\n",
        "\n",
        "import tensorflow as tf\n",
        "from tensorflow.keras import layers\n",
        "from tensorflow.keras.preprocessing import image_dataset_from_directory\n",
        "from sklearn.metrics import accuracy_score,classification_report\n",
        "from keras import optimizers\n",
        "from tensorflow.keras.models import Sequential\n",
        "from tensorflow.keras.layers import Convolution2D,MaxPooling2D,Activation, Dropout, Flatten, Dense, BatchNormalization\n",
        "\n",
        "import numpy as np\n",
        "import pandas as pd\n",
        "import matplotlib.pyplot as plt\n",
        "import os\n",
        "from tqdm.notebook import tqdm"
      ],
      "metadata": {
        "id": "skdgLY1ugFvY"
      },
      "execution_count": null,
      "outputs": []
    },
    {
      "cell_type": "code",
      "source": [
        "# Train and Test Directory\n",
        "train_dir = '/content/DevanagariHandwrittenCharacterDataset/Train'\n",
        "test_dir = '/content/DevanagariHandwrittenCharacterDataset/Test'"
      ],
      "metadata": {
        "id": "ASr_KL_HgFw-"
      },
      "execution_count": null,
      "outputs": []
    },
    {
      "cell_type": "code",
      "source": [
        "# Total number of classes in the dataset\n",
        "classes = os.listdir(train_dir)\n",
        "print(len(classes))\n",
        "classes"
      ],
      "metadata": {
        "colab": {
          "base_uri": "https://localhost:8080/"
        },
        "id": "IJMsvol-gF0L",
        "outputId": "4cae9794-c11e-4fc3-d3f5-9608cbc9ecfd"
      },
      "execution_count": null,
      "outputs": [
        {
          "output_type": "stream",
          "name": "stdout",
          "text": [
            "46\n"
          ]
        },
        {
          "output_type": "execute_result",
          "data": {
            "text/plain": [
              "['character_34_chhya',\n",
              " 'character_17_tha',\n",
              " 'character_9_jha',\n",
              " 'character_12_thaa',\n",
              " 'character_20_na',\n",
              " 'character_4_gha',\n",
              " 'digit_1',\n",
              " 'character_30_motosaw',\n",
              " 'digit_3',\n",
              " 'character_19_dha',\n",
              " 'digit_0',\n",
              " 'character_1_ka',\n",
              " 'character_16_tabala',\n",
              " 'character_25_ma',\n",
              " 'digit_5',\n",
              " 'character_29_waw',\n",
              " 'digit_9',\n",
              " 'character_28_la',\n",
              " 'digit_6',\n",
              " 'character_6_cha',\n",
              " 'digit_7',\n",
              " 'character_5_kna',\n",
              " 'character_3_ga',\n",
              " 'character_21_pa',\n",
              " 'character_35_tra',\n",
              " 'character_24_bha',\n",
              " 'character_36_gya',\n",
              " 'digit_4',\n",
              " 'character_26_yaw',\n",
              " 'character_15_adna',\n",
              " 'digit_8',\n",
              " 'character_32_patalosaw',\n",
              " 'character_14_dhaa',\n",
              " 'character_7_chha',\n",
              " 'character_27_ra',\n",
              " 'character_18_da',\n",
              " 'digit_2',\n",
              " 'character_22_pha',\n",
              " 'character_33_ha',\n",
              " 'character_8_ja',\n",
              " 'character_31_petchiryakha',\n",
              " 'character_2_kha',\n",
              " 'character_10_yna',\n",
              " 'character_13_daa',\n",
              " 'character_23_ba',\n",
              " 'character_11_taamatar']"
            ]
          },
          "metadata": {},
          "execution_count": 5
        }
      ]
    },
    {
      "cell_type": "code",
      "source": [
        "import matplotlib.pyplot as plt\n",
        "import matplotlib.image as mpimg\n",
        "\n",
        "# Load image\n",
        "img = mpimg.imread('/content/DevanagariHandwrittenCharacterDataset/Train/character_10_yna/10542.png')\n",
        "\n",
        "# Display image\n",
        "plt.imshow(img)\n",
        "plt.show()"
      ],
      "metadata": {
        "colab": {
          "base_uri": "https://localhost:8080/",
          "height": 430
        },
        "id": "e7UDj5TFgF1-",
        "outputId": "aa93b354-091a-4cc9-adc3-8ed0e5357a2e"
      },
      "execution_count": null,
      "outputs": [
        {
          "output_type": "display_data",
          "data": {
            "text/plain": [
              "<Figure size 640x480 with 1 Axes>"
            ],
            "image/png": "[encoded data removed]"
          },
          "metadata": {}
        }
      ]
    },
    {
      "cell_type": "code",
      "source": [
        "# Load image\n",
        "img = mpimg.imread('/content/DevanagariHandwrittenCharacterDataset/Train/character_10_yna/10576.png')\n",
        "\n",
        "# Display image\n",
        "plt.imshow(img)\n",
        "plt.show()"
      ],
      "metadata": {
        "colab": {
          "base_uri": "https://localhost:8080/",
          "height": 430
        },
        "id": "oJxW6WlcgF5I",
        "outputId": "78a2a385-33e8-4354-9b3e-1443c5c244b1"
      },
      "execution_count": null,
      "outputs": [
        {
          "output_type": "display_data",
          "data": {
            "text/plain": [
              "<Figure size 640x480 with 1 Axes>"
            ],
            "image/png": "[encoded data removed]"
          },
          "metadata": {}
        }
      ]
    },
    {
      "cell_type": "code",
      "source": [
        "# Load image\n",
        "img = mpimg.imread('/content/DevanagariHandwrittenCharacterDataset/Train/character_20_na/11061.png')\n",
        "\n",
        "# Display image\n",
        "plt.imshow(img)\n",
        "plt.show()"
      ],
      "metadata": {
        "colab": {
          "base_uri": "https://localhost:8080/",
          "height": 430
        },
        "id": "XL3uP96QgF7L",
        "outputId": "20223ce7-7be6-467a-b91b-800dc659cca7"
      },
      "execution_count": null,
      "outputs": [
        {
          "output_type": "display_data",
          "data": {
            "text/plain": [
              "<Figure size 640x480 with 1 Axes>"
            ],
            "image/png": "[encoded data removed]"
          },
          "metadata": {}
        }
      ]
    },
    {
      "cell_type": "code",
      "source": [
        "# Load image\n",
        "img = mpimg.imread('/content/DevanagariHandwrittenCharacterDataset/Train/character_35_tra/102522.png')\n",
        "\n",
        "# Display image\n",
        "plt.imshow(img)\n",
        "plt.show()"
      ],
      "metadata": {
        "colab": {
          "base_uri": "https://localhost:8080/",
          "height": 430
        },
        "id": "oHuoQu23gF-z",
        "outputId": "9bb19414-0df4-4c45-c1c2-a6fdc91a61b7"
      },
      "execution_count": null,
      "outputs": [
        {
          "output_type": "display_data",
          "data": {
            "text/plain": [
              "<Figure size 640x480 with 1 Axes>"
            ],
            "image/png": "[encoded data removed]"
          },
          "metadata": {}
        }
      ]
    },
    {
      "cell_type": "code",
      "source": [
        "hindi_character = 'ञ ट ठ ड ढ ण त थ द ध क न प फ ब भ म य र ल व ख श ष स ह ॠ त्र ज्ञ ग घ ङ च छ ज झ ० १ २ ३ ४ ५ ६ ७ ८ ९'.split()"
      ],
      "metadata": {
        "id": "o77neTYAgGAU"
      },
      "execution_count": null,
      "outputs": []
    },
    {
      "cell_type": "code",
      "source": [
        "# Generating Class label\n",
        "# The names of each character, in the correct order for the Hindi Devnagri script\n",
        "class_names='''character_1_ka character_2_kha character_3_ga character_4_gha character_5_kna character_6_cha character_7_chha\n",
        "character_8_ja character_9_jha character_10_yna character_11_taamatar character_12_thaa character_13_daa character_14_dhaa\n",
        "character_15_adna character_16_tabala character_17_tha character_18_da character_19_dha character_20_na character_21_pa\n",
        "character_22_pha character_23_ba character_24_bha character_25_ma character_26_yaw character_27_ra character_28_la\n",
        "character_29_waw character_30_motosaw character_31_petchiryakha character_32_patalosaw character_33_ha character_34_chhya\n",
        "character_35_tra character_36_gya digit_0 digit_1 digit_2 digit_3 digit_4 digit_5 digit_6 digit_7 digit_8 digit_9'''.split()\n",
        "\n",
        "hindi_character = 'ञ ट ठ ड ढ ण त थ द ध क न प फ ब भ म य र ल व ख श ष स ह ॠ त्र ज्ञ ग घ ङ च छ ज झ ० १ २ ३ ४ ५ ६ ७ ८ ९'.split()"
      ],
      "metadata": {
        "id": "nwGdiClygGD_"
      },
      "execution_count": null,
      "outputs": []
    },
    {
      "cell_type": "code",
      "source": [
        "# Creating Batches\n",
        "\n",
        "#Import the data from the directories, then transform them into batches\n",
        "training_dataset = image_dataset_from_directory(directory=train_dir,\n",
        "                                                image_size=(32,32),\n",
        "                                                batch_size=32,\n",
        "                                                label_mode='categorical')\n",
        "#image_dataset_from_directory function is used to create a dataset from image files in a directory.\n",
        "#batch_size=32 Organizes the data into batches of 32 samples.\n",
        "\n",
        "testting_dataset = image_dataset_from_directory(directory=test_dir,\n",
        "                                                image_size=(32,32),\n",
        "                                                batch_size=32,\n",
        "                                                label_mode='categorical',\n",
        "                                                shuffle=False)\n",
        "#shuffle=false Ensures that the testing dataset is not shuffled"
      ],
      "metadata": {
        "colab": {
          "base_uri": "https://localhost:8080/"
        },
        "id": "Obd7NqROgGFx",
        "outputId": "24b5ebb2-dea6-4dda-f158-4e237451c1c3"
      },
      "execution_count": null,
      "outputs": [
        {
          "output_type": "stream",
          "name": "stdout",
          "text": [
            "Found 78200 files belonging to 46 classes.\n",
            "Found 13800 files belonging to 46 classes.\n"
          ]
        }
      ]
    },
    {
      "cell_type": "code",
      "source": [
        "# Architechture of the CNN\n",
        "\n",
        "model = tf.keras.Sequential([layers.Rescaling(1./255),])         #Rescales the input pixel values between 0 and 1\n",
        "\n",
        "#Layer1----------------------------------------------------------\n",
        "model.add(Convolution2D(filters = 32,       # Specifies the number of filters\n",
        "            kernel_size = (3,3),\n",
        "            strides = 1,            # A stride of 1 means the kernel moves one pixel at a time.\n",
        "            activation = \"relu\",        #Applies the Rectified Linear Unit (ReLU) activation function to introduce non-linearity.\n",
        "            input_shape = (32,32,3)))       #it's a 3D tensor with a shape of (32, 32, 3), indicating an image with dimensions 32x32 pixels and three color channels (RGB).\n",
        "\n",
        "model.add(BatchNormalization())\n",
        "model.add(MaxPooling2D(pool_size=(2, 2),  #This layer performs max pooling on the input data, reducing the spatial dimensions.\n",
        "            strides=(2, 2),     # A stride of 2 means the window moves two pixels at a time.\n",
        "            padding=\"same\"))    # The input so that the output size is the same as the input size.\n",
        "\n",
        "#Layer2-------------------------------------------------------------\n",
        "model.add(Convolution2D(filters = 32,\n",
        "            kernel_size = (3,3),\n",
        "            strides = 1,\n",
        "            activation = \"relu\",\n",
        "            input_shape = (32,32,3)))\n",
        "model.add(BatchNormalization())\n",
        "model.add(MaxPooling2D(pool_size=(2, 2),\n",
        "            strides=(2, 2),\n",
        "            padding=\"same\"))\n",
        "\n",
        "\n",
        "#Layers 3-----------------------------------------------------------\n",
        "model.add(Convolution2D(filters = 64,\n",
        "            kernel_size = (3,3),\n",
        "            strides = 1,\n",
        "            activation = \"relu\"))\n",
        "model.add(BatchNormalization())\n",
        "model.add(MaxPooling2D(pool_size=(2, 2),\n",
        "            strides=(2, 2),\n",
        "            padding=\"same\"))\n",
        "\n",
        "\n",
        "#Layer 4--------------------------------------------------\n",
        "model.add(Convolution2D(filters = 64,\n",
        "            kernel_size = (3,3),\n",
        "            strides= 1,\n",
        "            activation = \"relu\"))\n",
        "model.add(BatchNormalization())\n",
        "model.add(MaxPooling2D(pool_size=(2, 2),\n",
        "            strides=(2, 2),\n",
        "            padding=\"same\"))\n",
        "model.add(Flatten())    #Flattens the output from the convolutional layers into a 1D array before transitioning to fully connected layers.\n",
        "\n",
        "#Fully Connected Layer 1----------------\n",
        "model.add(Dense(128,\n",
        "        activation = \"relu\",\n",
        "        kernel_initializer = \"uniform\"))\n",
        "model.add(BatchNormalization())         #fully connected (dense) layers are defined with ReLU activations and batch normalization.\n",
        "\n",
        "#Fully Connected Layer 2----------------\n",
        "model.add(Dense(64,\n",
        "        activation = \"relu\",\n",
        "        kernel_initializer = \"uniform\")) # Each weight is randomly sampled from a uniform distribution, providing some randomness to the initial weights.\n",
        "model.add(BatchNormalization())         #fully connected (dense) layers are defined with ReLU activations and batch normalization.\n",
        "\n",
        "#Fully Connected Layer 3----------------\n",
        "model.add(Dense(46,\n",
        "        activation = \"softmax\",\n",
        "        kernel_initializer = \"uniform\"))    #fully connected (dense) layers are defined with ReLU activations and batch normalization."
      ],
      "metadata": {
        "id": "7REldoDugynd"
      },
      "execution_count": null,
      "outputs": []
    },
    {
      "cell_type": "code",
      "source": [
        "# Compile Model\n",
        "model.compile(loss = 'categorical_crossentropy',\n",
        "                optimizer = 'adam',\n",
        "                metrics = ['accuracy'])"
      ],
      "metadata": {
        "id": "HPBzSFqTguKv"
      },
      "execution_count": null,
      "outputs": []
    },
    {
      "cell_type": "code",
      "source": [
        "# Model fitting on the loaded dataset\n",
        "model_history = model.fit(training_dataset,\n",
        "                              validation_data = testting_dataset,\n",
        "                        epochs = 25,) #The number of times the model is trained and tested."
      ],
      "metadata": {
        "colab": {
          "base_uri": "https://localhost:8080/"
        },
        "id": "FSzyFbpagGJY",
        "outputId": "95e0fee1-c22f-49fe-9dfb-1bb3f1d9937b"
      },
      "execution_count": null,
      "outputs": [
        {
          "output_type": "stream",
          "name": "stdout",
          "text": [
            "Epoch 1/25\n",
            "2444/2444 [==============================] - 149s 59ms/step - loss: 0.5022 - accuracy: 0.8736 - val_loss: 0.1475 - val_accuracy: 0.9551\n",
            "Epoch 2/25\n",
            "2444/2444 [==============================] - 141s 57ms/step - loss: 0.1300 - accuracy: 0.9602 - val_loss: 0.1169 - val_accuracy: 0.9652\n",
            "Epoch 3/25\n",
            "2444/2444 [==============================] - 145s 59ms/step - loss: 0.0973 - accuracy: 0.9696 - val_loss: 0.1128 - val_accuracy: 0.9660\n",
            "Epoch 4/25\n",
            "2444/2444 [==============================] - 147s 60ms/step - loss: 0.0774 - accuracy: 0.9757 - val_loss: 0.0931 - val_accuracy: 0.9715\n",
            "Epoch 5/25\n",
            "2444/2444 [==============================] - 146s 60ms/step - loss: 0.0638 - accuracy: 0.9797 - val_loss: 0.0767 - val_accuracy: 0.9772\n",
            "Epoch 6/25\n",
            "2444/2444 [==============================] - 145s 60ms/step - loss: 0.0532 - accuracy: 0.9831 - val_loss: 0.0834 - val_accuracy: 0.9772\n",
            "Epoch 7/25\n",
            "2444/2444 [==============================] - 148s 60ms/step - loss: 0.0480 - accuracy: 0.9845 - val_loss: 0.0669 - val_accuracy: 0.9809\n",
            "Epoch 8/25\n",
            "2444/2444 [==============================] - 142s 58ms/step - loss: 0.0425 - accuracy: 0.9860 - val_loss: 0.0716 - val_accuracy: 0.9783\n",
            "Epoch 9/25\n",
            "2444/2444 [==============================] - 143s 58ms/step - loss: 0.0383 - accuracy: 0.9880 - val_loss: 0.0563 - val_accuracy: 0.9849\n",
            "Epoch 10/25\n",
            "2444/2444 [==============================] - 139s 57ms/step - loss: 0.0341 - accuracy: 0.9885 - val_loss: 0.0733 - val_accuracy: 0.9795\n",
            "Epoch 11/25\n",
            "2444/2444 [==============================] - 142s 58ms/step - loss: 0.0328 - accuracy: 0.9888 - val_loss: 0.0534 - val_accuracy: 0.9859\n",
            "Epoch 12/25\n",
            "2444/2444 [==============================] - 140s 57ms/step - loss: 0.0304 - accuracy: 0.9900 - val_loss: 0.0704 - val_accuracy: 0.9814\n",
            "Epoch 13/25\n",
            "2444/2444 [==============================] - 144s 59ms/step - loss: 0.0268 - accuracy: 0.9914 - val_loss: 0.0621 - val_accuracy: 0.9845\n",
            "Epoch 14/25\n",
            "2444/2444 [==============================] - 138s 57ms/step - loss: 0.0241 - accuracy: 0.9923 - val_loss: 0.0673 - val_accuracy: 0.9825\n",
            "Epoch 15/25\n",
            "2444/2444 [==============================] - 143s 58ms/step - loss: 0.0226 - accuracy: 0.9926 - val_loss: 0.0573 - val_accuracy: 0.9857\n",
            "Epoch 16/25\n",
            "2444/2444 [==============================] - 144s 59ms/step - loss: 0.0232 - accuracy: 0.9925 - val_loss: 0.0692 - val_accuracy: 0.9832\n",
            "Epoch 17/25\n",
            "2444/2444 [==============================] - 139s 57ms/step - loss: 0.0205 - accuracy: 0.9931 - val_loss: 0.0560 - val_accuracy: 0.9853\n",
            "Epoch 18/25\n",
            "2444/2444 [==============================] - 138s 57ms/step - loss: 0.0217 - accuracy: 0.9930 - val_loss: 0.0641 - val_accuracy: 0.9832\n",
            "Epoch 19/25\n",
            "2444/2444 [==============================] - 139s 57ms/step - loss: 0.0185 - accuracy: 0.9940 - val_loss: 0.0574 - val_accuracy: 0.9857\n",
            "Epoch 20/25\n",
            "2444/2444 [==============================] - 143s 59ms/step - loss: 0.0181 - accuracy: 0.9942 - val_loss: 0.0548 - val_accuracy: 0.9859\n",
            "Epoch 21/25\n",
            "2444/2444 [==============================] - 142s 58ms/step - loss: 0.0185 - accuracy: 0.9939 - val_loss: 0.0487 - val_accuracy: 0.9874\n",
            "Epoch 22/25\n",
            "2444/2444 [==============================] - 138s 56ms/step - loss: 0.0155 - accuracy: 0.9947 - val_loss: 0.0580 - val_accuracy: 0.9855\n",
            "Epoch 23/25\n",
            "2444/2444 [==============================] - 140s 57ms/step - loss: 0.0166 - accuracy: 0.9943 - val_loss: 0.0652 - val_accuracy: 0.9852\n",
            "Epoch 24/25\n",
            "2444/2444 [==============================] - 142s 58ms/step - loss: 0.0155 - accuracy: 0.9947 - val_loss: 0.0553 - val_accuracy: 0.9859\n",
            "Epoch 25/25\n",
            "2444/2444 [==============================] - 139s 57ms/step - loss: 0.0151 - accuracy: 0.9950 - val_loss: 0.0538 - val_accuracy: 0.9868\n"
          ]
        }
      ]
    },
    {
      "cell_type": "code",
      "source": [
        "\n",
        "import cv2\n",
        "test_img = cv2.imread(\"/content/DevanagariHandwrittenCharacterDataset/Test/digit_3/12594.png\")\n",
        "plt.imshow(test_img)\n",
        "test_img = cv2.resize(test_img,(32,32))\n",
        "test_input = test_img.reshape((1,32,32,3))\n",
        "model.predict(test_input)\n",
        "predicted_probability = model.predict(test_input , verbose=1)\n",
        "predicted_class = predicted_probability.argmax(axis=1)\n",
        "class_number = predicted_class[0]\n",
        "print(\"Actual_class : ३\")\n",
        "print(\"Predicted Class : \" ,hindi_character[class_number])"
      ],
      "metadata": {
        "colab": {
          "base_uri": "https://localhost:8080/",
          "height": 499
        },
        "id": "ATuciyy4gGK-",
        "outputId": "2c01614f-1722-4bdd-ae84-ec806f9e10d1"
      },
      "execution_count": null,
      "outputs": [
        {
          "output_type": "stream",
          "name": "stdout",
          "text": [
            "1/1 [==============================] - 0s 266ms/step\n",
            "1/1 [==============================] - 0s 27ms/step\n",
            "Actual_class : ३\n",
            "Predicted Class :  ३\n"
          ]
        },
        {
          "output_type": "display_data",
          "data": {
            "text/plain": [
              "<Figure size 640x480 with 1 Axes>"
            ],
            "image/png": "[encoded data removed]"
          },
          "metadata": {}
        }
      ]
    },
    {
      "cell_type": "code",
      "source": [
        "test_img_2 = test_img = cv2.imread(\"/content/DevanagariHandwrittenCharacterDataset/Test/character_9_jha/12230.png\")\n",
        "plt.imshow(test_img_2)\n",
        "test_img_2 = cv2.resize(test_img_2,(32,32))\n",
        "test_input = test_img_2.reshape((1,32,32,3))\n",
        "model.predict(test_input)\n",
        "predicted_probability = model.predict(test_input , verbose=1)\n",
        "predicted_class = predicted_probability.argmax(axis=1)\n",
        "class_number = predicted_class[0]\n",
        "print(\"Actual_class : झ\")\n",
        "print(\"Predicted Class : \" ,hindi_character[class_number])"
      ],
      "metadata": {
        "colab": {
          "base_uri": "https://localhost:8080/",
          "height": 499
        },
        "id": "PXH7oKXngGO1",
        "outputId": "f9541710-5571-436b-db80-82fddd46472c"
      },
      "execution_count": null,
      "outputs": [
        {
          "output_type": "stream",
          "name": "stdout",
          "text": [
            "1/1 [==============================] - 0s 21ms/step\n",
            "1/1 [==============================] - 0s 21ms/step\n",
            "Actual_class : झ\n",
            "Predicted Class :  झ\n"
          ]
        },
        {
          "output_type": "display_data",
          "data": {
            "text/plain": [
              "<Figure size 640x480 with 1 Axes>"
            ],
            "image/png": "[encoded data removed]"
          },
          "metadata": {}
        }
      ]
    },
    {
      "cell_type": "code",
      "source": [],
      "metadata": {
        "id": "eUG_SuJ9gGQr"
      },
      "execution_count": null,
      "outputs": []
    }
  ]
}